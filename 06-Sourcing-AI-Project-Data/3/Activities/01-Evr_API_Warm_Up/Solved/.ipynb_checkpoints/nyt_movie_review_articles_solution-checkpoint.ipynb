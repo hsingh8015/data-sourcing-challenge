{
 "cells": [
  {
   "cell_type": "code",
   "execution_count": 1,
   "metadata": {},
   "outputs": [],
   "source": [
    "# Import dependencies\n",
    "import requests\n",
    "import json\n",
    "import pandas as pd\n",
    "from dotenv import load_dotenv\n",
    "import os\n",
    "import time\n",
    "\n",
    "# Load environment variables and New York Times API key\n",
    "load_dotenv()\n",
    "api_key = os.getenv(\"NYT_API_KEY\")\n",
    "\n",
    "# New York Times Article API URL\n",
    "url = \"https://api.nytimes.com/svc/search/v2/articlesearch.json?\"\n",
    "\n",
    "# Filter for movie reviews\n",
    "# section_name should be \"Movies\"\n",
    "# type_of_material should be \"Review\"\n",
    "filter_query = 'section_name:\"Movies\" AND type_of_material:\"Review\"'\n",
    "\n",
    "# Use a sort filter, sort by newest\n",
    "sort = \"newest\"\n",
    "\n",
    "# Select the following fields to return:\n",
    "# headline, web_url, snippet, source, keywords, pub_date, byline, word_count\n",
    "field_list = \"headline,web_url,snippet,source,keywords,pub_date,byline,word_count\"\n",
    "\n",
    "# Search for movie reviews published between a begin and end date\n",
    "# Select reviews published in July 2023\n",
    "begin_date = \"20230701\"\n",
    "end_date = \"20230731\"\n",
    "\n",
    "# Build URL\n",
    "query_url = (\n",
    "    f\"{url}api-key={api_key}&begin_date={begin_date}&end_date={end_date}\"\n",
    "    + f'&fq={filter_query}&sort={sort}&fl={field_list}'\n",
    ")"
   ]
  },
  {
   "cell_type": "code",
   "execution_count": null,
   "metadata": {},
   "outputs": [],
   "source": [
    "# Get the response\n",
    "response = requests.get(query_url)\n",
    "response"
   ]
  },
  {
   "cell_type": "code",
   "execution_count": null,
   "metadata": {},
   "outputs": [],
   "source": [
    "# Retrieve reviews\n",
    "reviews = response.json()\n",
    "\n",
    "# Print results in JSON format\n",
    "print(json.dumps(reviews, indent=4))"
   ]
  },
  {
   "cell_type": "code",
   "execution_count": null,
   "metadata": {},
   "outputs": [],
   "source": [
    "# Convert results list to JSON normalized Pandas DataFrame\n",
    "reviews_df = pd.json_normalize(reviews[\"response\"][\"docs\"])\n",
    "reviews_df"
   ]
  },
  {
   "cell_type": "code",
   "execution_count": null,
   "metadata": {},
   "outputs": [],
   "source": [
    "# Get the unique writer bylines as a Series\n",
    "writers = reviews_df[\"byline.original\"].drop_duplicates()\n",
    "writers"
   ]
  },
  {
   "cell_type": "code",
   "execution_count": null,
   "metadata": {},
   "outputs": [],
   "source": [
    "# Convert the writers Series to a list\n",
    "writers_list = writers.to_list()\n",
    "writers_list"
   ]
  },
  {
   "cell_type": "code",
   "execution_count": null,
   "metadata": {},
   "outputs": [],
   "source": [
    "# Use the writers list to find the most recent articles by the same writer\n",
    "\n",
    "# Empty list for results\n",
    "results_list = []\n",
    "\n",
    "# loop through the writers_list\n",
    "for writer in writers_list:\n",
    "    # Set up the query\n",
    "    query_url = f\"{url}api-key={api_key}&byline:{writer}&sort{sort}&fl={field_list}\"\n",
    "    \n",
    "    # Get the results\n",
    "    results = requests.get(query_url).json()\n",
    "    \n",
    "    # Add a 12 second interval between queries to stay within API query limits\n",
    "    time.sleep(12)\n",
    "\n",
    "    # Use a try-except clause to collect results\n",
    "    try:\n",
    "        # Loop through the \"docs\"\n",
    "        for doc in results[\"response\"][\"docs\"]:\n",
    "            # Save byline.original, headline.main, snippet,\n",
    "            # and web_url\n",
    "            results_list.append({\n",
    "                \"byline\": doc[\"byline\"][\"original\"],\n",
    "                \"headline\": doc[\"headline\"][\"main\"],\n",
    "                \"snippet\": doc[\"snippet\"],\n",
    "                \"web_url\": doc[\"web_url\"]\n",
    "            })\n",
    "        print(f\"Found articles {writer}\")\n",
    "    except:\n",
    "        print(f\"No articles {writer} found\")"
   ]
  },
  {
   "cell_type": "code",
   "execution_count": null,
   "metadata": {},
   "outputs": [],
   "source": [
    "# Convert the results to a Pandas DataFrame\n",
    "results_df = pd.DataFrame(results_list)\n",
    "results_df"
   ]
  },
  {
   "cell_type": "code",
   "execution_count": null,
   "metadata": {},
   "outputs": [],
   "source": []
  }
 ],
 "metadata": {
  "kernelspec": {
   "display_name": "Python 3 (ipykernel)",
   "language": "python",
   "name": "python3"
  },
  "language_info": {
   "codemirror_mode": {
    "name": "ipython",
    "version": 3
   },
   "file_extension": ".py",
   "mimetype": "text/x-python",
   "name": "python",
   "nbconvert_exporter": "python",
   "pygments_lexer": "ipython3",
   "version": "3.11.7"
  },
  "varInspector": {
   "cols": {
    "lenName": 16,
    "lenType": 16,
    "lenVar": 40
   },
   "kernels_config": {
    "python": {
     "delete_cmd_postfix": "",
     "delete_cmd_prefix": "del ",
     "library": "var_list.py",
     "varRefreshCmd": "print(var_dic_list())"
    },
    "r": {
     "delete_cmd_postfix": ") ",
     "delete_cmd_prefix": "rm(",
     "library": "var_list.r",
     "varRefreshCmd": "cat(var_dic_list()) "
    }
   },
   "types_to_exclude": [
    "module",
    "function",
    "builtin_function_or_method",
    "instance",
    "_Feature"
   ],
   "window_display": false
  }
 },
 "nbformat": 4,
 "nbformat_minor": 4
}
